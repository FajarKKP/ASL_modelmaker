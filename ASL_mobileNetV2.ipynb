{
  "nbformat": 4,
  "nbformat_minor": 0,
  "metadata": {
    "colab": {
      "name": "ASL_mobileNetV2.ipynb",
      "provenance": [],
      "mount_file_id": "1bTdNeU11pYNKWEm2s91sfZocML4jL6FE",
      "authorship_tag": "ABX9TyPtsNQHV/u3YQTBoATokrn1",
      "include_colab_link": true
    },
    "kernelspec": {
      "name": "python3",
      "display_name": "Python 3"
    },
    "language_info": {
      "name": "python"
    },
    "accelerator": "GPU"
  },
  "cells": [
    {
      "cell_type": "markdown",
      "metadata": {
        "id": "view-in-github",
        "colab_type": "text"
      },
      "source": [
        "<a href=\"https://colab.research.google.com/github/KhresnaPanduI/ASL_modelmaker/blob/main/ASL_mobileNetV2.ipynb\" target=\"_parent\"><img src=\"https://colab.research.google.com/assets/colab-badge.svg\" alt=\"Open In Colab\"/></a>"
      ]
    },
    {
      "cell_type": "code",
      "metadata": {
        "colab": {
          "base_uri": "https://localhost:8080/"
        },
        "id": "hmFW2agqTdNo",
        "outputId": "f6202cfa-c606-4e75-c465-7fd7e1d94398"
      },
      "source": [
        "!pip install -q tflite-model-maker"
      ],
      "execution_count": 1,
      "outputs": [
        {
          "output_type": "stream",
          "text": [
            "\u001b[K     |████████████████████████████████| 593kB 8.4MB/s \n",
            "\u001b[K     |████████████████████████████████| 1.2MB 17.4MB/s \n",
            "\u001b[K     |████████████████████████████████| 1.1MB 37.5MB/s \n",
            "\u001b[K     |████████████████████████████████| 71kB 10.1MB/s \n",
            "\u001b[K     |████████████████████████████████| 6.3MB 40.1MB/s \n",
            "\u001b[K     |████████████████████████████████| 122kB 56.1MB/s \n",
            "\u001b[K     |████████████████████████████████| 92kB 13.8MB/s \n",
            "\u001b[K     |████████████████████████████████| 645kB 46.7MB/s \n",
            "\u001b[K     |████████████████████████████████| 112kB 61.7MB/s \n",
            "\u001b[K     |████████████████████████████████| 686kB 47.5MB/s \n",
            "\u001b[K     |████████████████████████████████| 174kB 59.0MB/s \n",
            "\u001b[K     |████████████████████████████████| 849kB 42.9MB/s \n",
            "\u001b[K     |████████████████████████████████| 194kB 57.5MB/s \n",
            "\u001b[K     |████████████████████████████████| 358kB 44.0MB/s \n",
            "\u001b[K     |████████████████████████████████| 38.2MB 61kB/s \n",
            "\u001b[K     |████████████████████████████████| 102kB 14.4MB/s \n",
            "\u001b[?25h  Building wheel for fire (setup.py) ... \u001b[?25l\u001b[?25hdone\n",
            "  Building wheel for py-cpuinfo (setup.py) ... \u001b[?25l\u001b[?25hdone\n"
          ],
          "name": "stdout"
        }
      ]
    },
    {
      "cell_type": "code",
      "metadata": {
        "id": "x3KhKRD4Tlxy"
      },
      "source": [
        "import tensorflow as tf\n",
        "import tensorflow_datasets as tfds\n",
        "\n",
        "from tflite_model_maker import image_classifier\n",
        "from tflite_model_maker import model_spec\n",
        "from tflite_model_maker.image_classifier import DataLoader\n",
        "\n",
        "import matplotlib.pyplot as plt\n",
        "import numpy "
      ],
      "execution_count": 3,
      "outputs": []
    },
    {
      "cell_type": "code",
      "metadata": {
        "colab": {
          "base_uri": "https://localhost:8080/"
        },
        "id": "4wgM6FJ5TnV8",
        "outputId": "9d0d4283-4872-420f-dd4a-d245e92f9006"
      },
      "source": [
        "#load dataset\n",
        "image_path = '/content/drive/MyDrive/Datasets/combined asl'\n",
        "data = DataLoader.from_folder(image_path)\n",
        "train_data, test_data = data.split(0.9)"
      ],
      "execution_count": 4,
      "outputs": [
        {
          "output_type": "stream",
          "text": [
            "INFO:tensorflow:Load image with size: 5798, num_label: 29, labels: A, B, C, D, E, F, G, H, I, J, K, L, M, N, O, P, Q, R, S, T, U, V, W, X, Y, Z, del, nothing, space.\n"
          ],
          "name": "stdout"
        }
      ]
    },
    {
      "cell_type": "code",
      "metadata": {
        "colab": {
          "base_uri": "https://localhost:8080/"
        },
        "id": "77diq9XkUPL1",
        "outputId": "1cf14982-8c7f-48f8-f5c7-898857768c2e"
      },
      "source": [
        "#training\n",
        "model = image_classifier.create(train_data, \n",
        "                                validation_data=test_data,\n",
        "                                model_spec=model_spec.get('mobilenet_v2'),\n",
        "                                epochs=20, \n",
        "                                dropout_rate=0.1,\n",
        "                                shuffle=True,\n",
        "                                use_augmentation=True)"
      ],
      "execution_count": 5,
      "outputs": [
        {
          "output_type": "stream",
          "text": [
            "INFO:tensorflow:Retraining the models...\n",
            "WARNING:tensorflow:Please add `keras.layers.InputLayer` instead of `keras.Input` to Sequential model. `keras.Input` is intended to be used by Functional model.\n"
          ],
          "name": "stdout"
        },
        {
          "output_type": "stream",
          "text": [
            "WARNING:tensorflow:Please add `keras.layers.InputLayer` instead of `keras.Input` to Sequential model. `keras.Input` is intended to be used by Functional model.\n"
          ],
          "name": "stderr"
        },
        {
          "output_type": "stream",
          "text": [
            "Model: \"sequential\"\n",
            "_________________________________________________________________\n",
            "Layer (type)                 Output Shape              Param #   \n",
            "=================================================================\n",
            "hub_keras_layer_v1v2 (HubKer (None, 1280)              2257984   \n",
            "_________________________________________________________________\n",
            "dropout (Dropout)            (None, 1280)              0         \n",
            "_________________________________________________________________\n",
            "dense (Dense)                (None, 29)                37149     \n",
            "=================================================================\n",
            "Total params: 2,295,133\n",
            "Trainable params: 37,149\n",
            "Non-trainable params: 2,257,984\n",
            "_________________________________________________________________\n",
            "None\n",
            "INFO:tensorflow:Use default resize_bicubic.\n"
          ],
          "name": "stdout"
        },
        {
          "output_type": "stream",
          "text": [
            "INFO:tensorflow:Use default resize_bicubic.\n"
          ],
          "name": "stderr"
        },
        {
          "output_type": "stream",
          "text": [
            "INFO:tensorflow:Use customized resize method bilinear\n"
          ],
          "name": "stdout"
        },
        {
          "output_type": "stream",
          "text": [
            "INFO:tensorflow:Use customized resize method bilinear\n"
          ],
          "name": "stderr"
        },
        {
          "output_type": "stream",
          "text": [
            "INFO:tensorflow:Use customized resize method bilinear\n"
          ],
          "name": "stdout"
        },
        {
          "output_type": "stream",
          "text": [
            "INFO:tensorflow:Use customized resize method bilinear\n",
            "/usr/local/lib/python3.7/dist-packages/tensorflow/python/keras/optimizer_v2/optimizer_v2.py:375: UserWarning: The `lr` argument is deprecated, use `learning_rate` instead.\n",
            "  \"The `lr` argument is deprecated, use `learning_rate` instead.\")\n"
          ],
          "name": "stderr"
        },
        {
          "output_type": "stream",
          "text": [
            "Epoch 1/20\n",
            "163/163 [==============================] - 948s 6s/step - loss: 2.9379 - accuracy: 0.2341 - val_loss: 1.9464 - val_accuracy: 0.5816\n",
            "Epoch 2/20\n",
            "163/163 [==============================] - 23s 144ms/step - loss: 2.2398 - accuracy: 0.4707 - val_loss: 1.5734 - val_accuracy: 0.7049\n",
            "Epoch 3/20\n",
            "163/163 [==============================] - 24s 147ms/step - loss: 2.0297 - accuracy: 0.5397 - val_loss: 1.4111 - val_accuracy: 0.7830\n",
            "Epoch 4/20\n",
            "163/163 [==============================] - 24s 149ms/step - loss: 1.9243 - accuracy: 0.5882 - val_loss: 1.3189 - val_accuracy: 0.8229\n",
            "Epoch 5/20\n",
            "163/163 [==============================] - 25s 153ms/step - loss: 1.8583 - accuracy: 0.6058 - val_loss: 1.2643 - val_accuracy: 0.8403\n",
            "Epoch 6/20\n",
            "163/163 [==============================] - 26s 159ms/step - loss: 1.7765 - accuracy: 0.6384 - val_loss: 1.2059 - val_accuracy: 0.8750\n",
            "Epoch 7/20\n",
            "163/163 [==============================] - 29s 176ms/step - loss: 1.7567 - accuracy: 0.6457 - val_loss: 1.1669 - val_accuracy: 0.8906\n",
            "Epoch 8/20\n",
            "163/163 [==============================] - 23s 141ms/step - loss: 1.7650 - accuracy: 0.6428 - val_loss: 1.1570 - val_accuracy: 0.8854\n",
            "Epoch 9/20\n",
            "163/163 [==============================] - 24s 145ms/step - loss: 1.7242 - accuracy: 0.6603 - val_loss: 1.1230 - val_accuracy: 0.9080\n",
            "Epoch 10/20\n",
            "163/163 [==============================] - 23s 141ms/step - loss: 1.6912 - accuracy: 0.6679 - val_loss: 1.1059 - val_accuracy: 0.8976\n",
            "Epoch 11/20\n",
            "163/163 [==============================] - 23s 139ms/step - loss: 1.6803 - accuracy: 0.6706 - val_loss: 1.0882 - val_accuracy: 0.9149\n",
            "Epoch 12/20\n",
            "163/163 [==============================] - 23s 140ms/step - loss: 1.6711 - accuracy: 0.6842 - val_loss: 1.0684 - val_accuracy: 0.9288\n",
            "Epoch 13/20\n",
            "163/163 [==============================] - 23s 143ms/step - loss: 1.6608 - accuracy: 0.6793 - val_loss: 1.0963 - val_accuracy: 0.9271\n",
            "Epoch 14/20\n",
            "163/163 [==============================] - 23s 140ms/step - loss: 1.6307 - accuracy: 0.6900 - val_loss: 1.0388 - val_accuracy: 0.9358\n",
            "Epoch 15/20\n",
            "163/163 [==============================] - 23s 140ms/step - loss: 1.6299 - accuracy: 0.6927 - val_loss: 1.0431 - val_accuracy: 0.9410\n",
            "Epoch 16/20\n",
            "163/163 [==============================] - 23s 139ms/step - loss: 1.6020 - accuracy: 0.7021 - val_loss: 1.0587 - val_accuracy: 0.9340\n",
            "Epoch 17/20\n",
            "163/163 [==============================] - 23s 140ms/step - loss: 1.6161 - accuracy: 0.6967 - val_loss: 1.0510 - val_accuracy: 0.9340\n",
            "Epoch 18/20\n",
            "163/163 [==============================] - 23s 142ms/step - loss: 1.5969 - accuracy: 0.7026 - val_loss: 1.0402 - val_accuracy: 0.9358\n",
            "Epoch 19/20\n",
            "163/163 [==============================] - 23s 139ms/step - loss: 1.5816 - accuracy: 0.7163 - val_loss: 1.0701 - val_accuracy: 0.9167\n",
            "Epoch 20/20\n",
            "163/163 [==============================] - 23s 140ms/step - loss: 1.5950 - accuracy: 0.7021 - val_loss: 1.0198 - val_accuracy: 0.9479\n"
          ],
          "name": "stdout"
        }
      ]
    },
    {
      "cell_type": "code",
      "metadata": {
        "colab": {
          "base_uri": "https://localhost:8080/"
        },
        "id": "2Fdn3BeoXFxU",
        "outputId": "07deef8d-7ccc-4b36-f5c0-772886ad1e7c"
      },
      "source": [
        "loss, accuracy = model.evaluate(test_data)"
      ],
      "execution_count": 6,
      "outputs": [
        {
          "output_type": "stream",
          "text": [
            "INFO:tensorflow:Use customized resize method bilinear\n"
          ],
          "name": "stdout"
        },
        {
          "output_type": "stream",
          "text": [
            "INFO:tensorflow:Use customized resize method bilinear\n"
          ],
          "name": "stderr"
        },
        {
          "output_type": "stream",
          "text": [
            "19/19 [==============================] - 7s 97ms/step - loss: 1.0197 - accuracy: 0.9483\n"
          ],
          "name": "stdout"
        }
      ]
    },
    {
      "cell_type": "code",
      "metadata": {
        "colab": {
          "base_uri": "https://localhost:8080/"
        },
        "id": "as9GWUcWXIN7",
        "outputId": "49808dc0-fcf8-4642-bd9a-57c9eaee37d4"
      },
      "source": [
        "model.export(export_dir='.', \n",
        "             tflite_filename='ASL_mobileNetV2.tflite')"
      ],
      "execution_count": 8,
      "outputs": [
        {
          "output_type": "stream",
          "text": [
            "INFO:tensorflow:Use customized resize method bilinear\n"
          ],
          "name": "stdout"
        },
        {
          "output_type": "stream",
          "text": [
            "INFO:tensorflow:Use customized resize method bilinear\n"
          ],
          "name": "stderr"
        },
        {
          "output_type": "stream",
          "text": [
            "INFO:tensorflow:Assets written to: /tmp/tmpnf_u0de7/assets\n"
          ],
          "name": "stdout"
        },
        {
          "output_type": "stream",
          "text": [
            "INFO:tensorflow:Assets written to: /tmp/tmpnf_u0de7/assets\n",
            "WARNING:absl:For model inputs containing unsupported operations which cannot be quantized, the `inference_input_type` attribute will default to the original type.\n"
          ],
          "name": "stderr"
        },
        {
          "output_type": "stream",
          "text": [
            "INFO:tensorflow:Label file is inside the TFLite model with metadata.\n"
          ],
          "name": "stdout"
        },
        {
          "output_type": "stream",
          "text": [
            "INFO:tensorflow:Label file is inside the TFLite model with metadata.\n"
          ],
          "name": "stderr"
        },
        {
          "output_type": "stream",
          "text": [
            "INFO:tensorflow:Saving labels in /tmp/tmp8ptf8qk8/labels.txt\n"
          ],
          "name": "stdout"
        },
        {
          "output_type": "stream",
          "text": [
            "INFO:tensorflow:Saving labels in /tmp/tmp8ptf8qk8/labels.txt\n"
          ],
          "name": "stderr"
        },
        {
          "output_type": "stream",
          "text": [
            "INFO:tensorflow:TensorFlow Lite model exported successfully: ./ASL_mobileNetV2.tflite\n"
          ],
          "name": "stdout"
        },
        {
          "output_type": "stream",
          "text": [
            "INFO:tensorflow:TensorFlow Lite model exported successfully: ./ASL_mobileNetV2.tflite\n"
          ],
          "name": "stderr"
        }
      ]
    },
    {
      "cell_type": "code",
      "metadata": {
        "colab": {
          "base_uri": "https://localhost:8080/",
          "height": 338
        },
        "id": "OdY7vfykXKtJ",
        "outputId": "cb89215a-5e56-489e-fc8c-7a2e45e010ed"
      },
      "source": [
        "from google.colab import files\n",
        "files.download('ASL_mobileNetV2.tflite') "
      ],
      "execution_count": 9,
      "outputs": [
        {
          "output_type": "display_data",
          "data": {
            "application/javascript": [
              "\n",
              "    async function download(id, filename, size) {\n",
              "      if (!google.colab.kernel.accessAllowed) {\n",
              "        return;\n",
              "      }\n",
              "      const div = document.createElement('div');\n",
              "      const label = document.createElement('label');\n",
              "      label.textContent = `Downloading \"${filename}\": `;\n",
              "      div.appendChild(label);\n",
              "      const progress = document.createElement('progress');\n",
              "      progress.max = size;\n",
              "      div.appendChild(progress);\n",
              "      document.body.appendChild(div);\n",
              "\n",
              "      const buffers = [];\n",
              "      let downloaded = 0;\n",
              "\n",
              "      const channel = await google.colab.kernel.comms.open(id);\n",
              "      // Send a message to notify the kernel that we're ready.\n",
              "      channel.send({})\n",
              "\n",
              "      for await (const message of channel.messages) {\n",
              "        // Send a message to notify the kernel that we're ready.\n",
              "        channel.send({})\n",
              "        if (message.buffers) {\n",
              "          for (const buffer of message.buffers) {\n",
              "            buffers.push(buffer);\n",
              "            downloaded += buffer.byteLength;\n",
              "            progress.value = downloaded;\n",
              "          }\n",
              "        }\n",
              "      }\n",
              "      const blob = new Blob(buffers, {type: 'application/binary'});\n",
              "      const a = document.createElement('a');\n",
              "      a.href = window.URL.createObjectURL(blob);\n",
              "      a.download = filename;\n",
              "      div.appendChild(a);\n",
              "      a.click();\n",
              "      div.remove();\n",
              "    }\n",
              "  "
            ],
            "text/plain": [
              "<IPython.core.display.Javascript object>"
            ]
          },
          "metadata": {
            "tags": []
          }
        },
        {
          "output_type": "display_data",
          "data": {
            "application/javascript": [
              "download(\"download_693d848d-dad9-4126-b39f-f7e5b1007230\", \"ASL_mobileNetV2.tflite\", 2819883)"
            ],
            "text/plain": [
              "<IPython.core.display.Javascript object>"
            ]
          },
          "metadata": {
            "tags": []
          }
        },
        {
          "output_type": "error",
          "ename": "FileNotFoundError",
          "evalue": "ignored",
          "traceback": [
            "\u001b[0;31m---------------------------------------------------------------------------\u001b[0m",
            "\u001b[0;31mFileNotFoundError\u001b[0m                         Traceback (most recent call last)",
            "\u001b[0;32m<ipython-input-9-8d8330b6d401>\u001b[0m in \u001b[0;36m<module>\u001b[0;34m()\u001b[0m\n\u001b[1;32m      1\u001b[0m \u001b[0;32mfrom\u001b[0m \u001b[0mgoogle\u001b[0m\u001b[0;34m.\u001b[0m\u001b[0mcolab\u001b[0m \u001b[0;32mimport\u001b[0m \u001b[0mfiles\u001b[0m\u001b[0;34m\u001b[0m\u001b[0;34m\u001b[0m\u001b[0m\n\u001b[1;32m      2\u001b[0m \u001b[0mfiles\u001b[0m\u001b[0;34m.\u001b[0m\u001b[0mdownload\u001b[0m\u001b[0;34m(\u001b[0m\u001b[0;34m'ASL_mobileNetV2.tflite'\u001b[0m\u001b[0;34m)\u001b[0m\u001b[0;34m\u001b[0m\u001b[0;34m\u001b[0m\u001b[0m\n\u001b[0;32m----> 3\u001b[0;31m \u001b[0mfiles\u001b[0m\u001b[0;34m.\u001b[0m\u001b[0mdownload\u001b[0m\u001b[0;34m(\u001b[0m\u001b[0;34m'asl_labels.txt'\u001b[0m\u001b[0;34m)\u001b[0m\u001b[0;34m\u001b[0m\u001b[0;34m\u001b[0m\u001b[0m\n\u001b[0m",
            "\u001b[0;32m/usr/local/lib/python3.7/dist-packages/google/colab/files.py\u001b[0m in \u001b[0;36mdownload\u001b[0;34m(filename)\u001b[0m\n\u001b[1;32m    141\u001b[0m       \u001b[0;32mraise\u001b[0m \u001b[0mOSError\u001b[0m\u001b[0;34m(\u001b[0m\u001b[0mmsg\u001b[0m\u001b[0;34m)\u001b[0m\u001b[0;34m\u001b[0m\u001b[0;34m\u001b[0m\u001b[0m\n\u001b[1;32m    142\u001b[0m     \u001b[0;32melse\u001b[0m\u001b[0;34m:\u001b[0m\u001b[0;34m\u001b[0m\u001b[0;34m\u001b[0m\u001b[0m\n\u001b[0;32m--> 143\u001b[0;31m       \u001b[0;32mraise\u001b[0m \u001b[0mFileNotFoundError\u001b[0m\u001b[0;34m(\u001b[0m\u001b[0mmsg\u001b[0m\u001b[0;34m)\u001b[0m  \u001b[0;31m# pylint: disable=undefined-variable\u001b[0m\u001b[0;34m\u001b[0m\u001b[0;34m\u001b[0m\u001b[0m\n\u001b[0m\u001b[1;32m    144\u001b[0m \u001b[0;34m\u001b[0m\u001b[0m\n\u001b[1;32m    145\u001b[0m   \u001b[0mcomm_manager\u001b[0m \u001b[0;34m=\u001b[0m \u001b[0m_IPython\u001b[0m\u001b[0;34m.\u001b[0m\u001b[0mget_ipython\u001b[0m\u001b[0;34m(\u001b[0m\u001b[0;34m)\u001b[0m\u001b[0;34m.\u001b[0m\u001b[0mkernel\u001b[0m\u001b[0;34m.\u001b[0m\u001b[0mcomm_manager\u001b[0m\u001b[0;34m\u001b[0m\u001b[0;34m\u001b[0m\u001b[0m\n",
            "\u001b[0;31mFileNotFoundError\u001b[0m: Cannot find file: asl_labels.txt"
          ]
        }
      ]
    }
  ]
}