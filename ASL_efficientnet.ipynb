{
  "nbformat": 4,
  "nbformat_minor": 0,
  "metadata": {
    "colab": {
      "name": "ASL_efficientnet.ipynb",
      "provenance": [],
      "collapsed_sections": [],
      "mount_file_id": "1VPFbjFDfPU2d-KuoXKO_Mm-09Ih-LkFo",
      "authorship_tag": "ABX9TyN4kS84o9vi5FZMOT2Nggr+",
      "include_colab_link": true
    },
    "kernelspec": {
      "name": "python3",
      "display_name": "Python 3"
    },
    "language_info": {
      "name": "python"
    },
    "accelerator": "GPU"
  },
  "cells": [
    {
      "cell_type": "markdown",
      "metadata": {
        "id": "view-in-github",
        "colab_type": "text"
      },
      "source": [
        "<a href=\"https://colab.research.google.com/github/KhresnaPanduI/ASL_modelmaker/blob/main/ASL_efficientnet.ipynb\" target=\"_parent\"><img src=\"https://colab.research.google.com/assets/colab-badge.svg\" alt=\"Open In Colab\"/></a>"
      ]
    },
    {
      "cell_type": "code",
      "metadata": {
        "id": "rtWlCIOfrSjZ"
      },
      "source": [
        "!pip install -q tflite-model-maker"
      ],
      "execution_count": 8,
      "outputs": []
    },
    {
      "cell_type": "code",
      "metadata": {
        "id": "D0EFWAubqvY4"
      },
      "source": [
        "import tensorflow as tf\n",
        "import tensorflow_datasets as tfds\n",
        "\n",
        "from tflite_model_maker import image_classifier\n",
        "from tflite_model_maker.image_classifier import DataLoader\n",
        "\n",
        "import matplotlib.pyplot as plt\n",
        "import numpy "
      ],
      "execution_count": 9,
      "outputs": []
    },
    {
      "cell_type": "code",
      "metadata": {
        "colab": {
          "base_uri": "https://localhost:8080/"
        },
        "id": "Wqxs2Anj0kp2",
        "outputId": "b94c01f6-97be-474d-bbca-1b78904fc6a2"
      },
      "source": [
        "#load dataset\n",
        "image_path = '/content/drive/MyDrive/Datasets/combined asl'\n",
        "data = DataLoader.from_folder(image_path)\n",
        "train_data, test_data = data.split(0.9)"
      ],
      "execution_count": 10,
      "outputs": [
        {
          "output_type": "stream",
          "text": [
            "INFO:tensorflow:Load image with size: 5798, num_label: 29, labels: A, B, C, D, E, F, G, H, I, J, K, L, M, N, O, P, Q, R, S, T, U, V, W, X, Y, Z, del, nothing, space.\n"
          ],
          "name": "stdout"
        },
        {
          "output_type": "stream",
          "text": [
            "INFO:tensorflow:Load image with size: 5798, num_label: 29, labels: A, B, C, D, E, F, G, H, I, J, K, L, M, N, O, P, Q, R, S, T, U, V, W, X, Y, Z, del, nothing, space.\n"
          ],
          "name": "stderr"
        }
      ]
    },
    {
      "cell_type": "code",
      "metadata": {
        "colab": {
          "base_uri": "https://localhost:8080/"
        },
        "id": "935Jm4eU0ryl",
        "outputId": "176e551a-bce7-4e5b-c07d-ff995d15be63"
      },
      "source": [
        "#training\n",
        "model = image_classifier.create(train_data, \n",
        "                                validation_data=test_data,\n",
        "                                epochs=20, \n",
        "                                dropout_rate=0.1,\n",
        "                                shuffle=True,\n",
        "                                use_augmentation=True)"
      ],
      "execution_count": 15,
      "outputs": [
        {
          "output_type": "stream",
          "text": [
            "INFO:tensorflow:Retraining the models...\n"
          ],
          "name": "stdout"
        },
        {
          "output_type": "stream",
          "text": [
            "INFO:tensorflow:Retraining the models...\n"
          ],
          "name": "stderr"
        },
        {
          "output_type": "stream",
          "text": [
            "WARNING:tensorflow:Please add `keras.layers.InputLayer` instead of `keras.Input` to Sequential model. `keras.Input` is intended to be used by Functional model.\n"
          ],
          "name": "stdout"
        },
        {
          "output_type": "stream",
          "text": [
            "WARNING:tensorflow:Please add `keras.layers.InputLayer` instead of `keras.Input` to Sequential model. `keras.Input` is intended to be used by Functional model.\n"
          ],
          "name": "stderr"
        },
        {
          "output_type": "stream",
          "text": [
            "Model: \"sequential_2\"\n",
            "_________________________________________________________________\n",
            "Layer (type)                 Output Shape              Param #   \n",
            "=================================================================\n",
            "hub_keras_layer_v1v2_2 (HubK (None, 1280)              3413024   \n",
            "_________________________________________________________________\n",
            "dropout_2 (Dropout)          (None, 1280)              0         \n",
            "_________________________________________________________________\n",
            "dense_2 (Dense)              (None, 29)                37149     \n",
            "=================================================================\n",
            "Total params: 3,450,173\n",
            "Trainable params: 37,149\n",
            "Non-trainable params: 3,413,024\n",
            "_________________________________________________________________\n",
            "None\n",
            "INFO:tensorflow:Use default resize_bicubic.\n"
          ],
          "name": "stdout"
        },
        {
          "output_type": "stream",
          "text": [
            "INFO:tensorflow:Use default resize_bicubic.\n"
          ],
          "name": "stderr"
        },
        {
          "output_type": "stream",
          "text": [
            "INFO:tensorflow:Use customized resize method bilinear\n"
          ],
          "name": "stdout"
        },
        {
          "output_type": "stream",
          "text": [
            "INFO:tensorflow:Use customized resize method bilinear\n"
          ],
          "name": "stderr"
        },
        {
          "output_type": "stream",
          "text": [
            "INFO:tensorflow:Use customized resize method bilinear\n"
          ],
          "name": "stdout"
        },
        {
          "output_type": "stream",
          "text": [
            "INFO:tensorflow:Use customized resize method bilinear\n",
            "/usr/local/lib/python3.7/dist-packages/tensorflow/python/keras/optimizer_v2/optimizer_v2.py:375: UserWarning: The `lr` argument is deprecated, use `learning_rate` instead.\n",
            "  \"The `lr` argument is deprecated, use `learning_rate` instead.\")\n"
          ],
          "name": "stderr"
        },
        {
          "output_type": "stream",
          "text": [
            "Epoch 1/20\n",
            "163/163 [==============================] - 26s 149ms/step - loss: 3.0521 - accuracy: 0.1934 - val_loss: 2.5557 - val_accuracy: 0.4271\n",
            "Epoch 2/20\n",
            "163/163 [==============================] - 24s 148ms/step - loss: 2.5083 - accuracy: 0.4064 - val_loss: 2.1023 - val_accuracy: 0.6059\n",
            "Epoch 3/20\n",
            "163/163 [==============================] - 24s 148ms/step - loss: 2.2633 - accuracy: 0.4927 - val_loss: 1.8407 - val_accuracy: 0.7049\n",
            "Epoch 4/20\n",
            "163/163 [==============================] - 24s 149ms/step - loss: 2.1015 - accuracy: 0.5497 - val_loss: 1.6750 - val_accuracy: 0.7413\n",
            "Epoch 5/20\n",
            "163/163 [==============================] - 25s 154ms/step - loss: 1.9987 - accuracy: 0.5803 - val_loss: 1.5344 - val_accuracy: 0.8142\n",
            "Epoch 6/20\n",
            "163/163 [==============================] - 26s 161ms/step - loss: 1.9071 - accuracy: 0.6122 - val_loss: 1.4499 - val_accuracy: 0.8385\n",
            "Epoch 7/20\n",
            "163/163 [==============================] - 28s 175ms/step - loss: 1.8425 - accuracy: 0.6426 - val_loss: 1.3789 - val_accuracy: 0.8733\n",
            "Epoch 8/20\n",
            "163/163 [==============================] - 23s 145ms/step - loss: 1.8009 - accuracy: 0.6484 - val_loss: 1.3317 - val_accuracy: 0.8733\n",
            "Epoch 9/20\n",
            "163/163 [==============================] - 23s 144ms/step - loss: 1.7656 - accuracy: 0.6641 - val_loss: 1.2877 - val_accuracy: 0.8837\n",
            "Epoch 10/20\n",
            "163/163 [==============================] - 23s 144ms/step - loss: 1.7071 - accuracy: 0.6837 - val_loss: 1.2435 - val_accuracy: 0.9184\n",
            "Epoch 11/20\n",
            "163/163 [==============================] - 23s 145ms/step - loss: 1.7073 - accuracy: 0.6858 - val_loss: 1.2167 - val_accuracy: 0.9167\n",
            "Epoch 12/20\n",
            "163/163 [==============================] - 23s 144ms/step - loss: 1.6785 - accuracy: 0.6946 - val_loss: 1.1890 - val_accuracy: 0.9184\n",
            "Epoch 13/20\n",
            "163/163 [==============================] - 23s 145ms/step - loss: 1.6628 - accuracy: 0.6963 - val_loss: 1.1636 - val_accuracy: 0.9358\n",
            "Epoch 14/20\n",
            "163/163 [==============================] - 23s 139ms/step - loss: 1.6356 - accuracy: 0.7013 - val_loss: 1.1444 - val_accuracy: 0.9358\n",
            "Epoch 15/20\n",
            "163/163 [==============================] - 24s 148ms/step - loss: 1.6187 - accuracy: 0.7134 - val_loss: 1.1317 - val_accuracy: 0.9427\n",
            "Epoch 16/20\n",
            "163/163 [==============================] - 24s 145ms/step - loss: 1.6067 - accuracy: 0.7197 - val_loss: 1.1117 - val_accuracy: 0.9462\n",
            "Epoch 17/20\n",
            "163/163 [==============================] - 23s 143ms/step - loss: 1.5939 - accuracy: 0.7189 - val_loss: 1.1071 - val_accuracy: 0.9427\n",
            "Epoch 18/20\n",
            "163/163 [==============================] - 23s 144ms/step - loss: 1.6043 - accuracy: 0.7186 - val_loss: 1.0994 - val_accuracy: 0.9479\n",
            "Epoch 19/20\n",
            "163/163 [==============================] - 23s 144ms/step - loss: 1.5674 - accuracy: 0.7285 - val_loss: 1.0856 - val_accuracy: 0.9444\n",
            "Epoch 20/20\n",
            "163/163 [==============================] - 23s 144ms/step - loss: 1.5785 - accuracy: 0.7266 - val_loss: 1.0775 - val_accuracy: 0.9514\n"
          ],
          "name": "stdout"
        }
      ]
    },
    {
      "cell_type": "markdown",
      "metadata": {
        "id": "E7VFTRQP2A4W"
      },
      "source": [
        "Evaluate model"
      ]
    },
    {
      "cell_type": "code",
      "metadata": {
        "colab": {
          "base_uri": "https://localhost:8080/"
        },
        "id": "GX7xGd8b2CZh",
        "outputId": "a6836d6e-4b26-4135-89a9-db6faa458593"
      },
      "source": [
        "loss, accuracy = model.evaluate(test_data)"
      ],
      "execution_count": 16,
      "outputs": [
        {
          "output_type": "stream",
          "text": [
            "INFO:tensorflow:Use customized resize method bilinear\n"
          ],
          "name": "stdout"
        },
        {
          "output_type": "stream",
          "text": [
            "INFO:tensorflow:Use customized resize method bilinear\n"
          ],
          "name": "stderr"
        },
        {
          "output_type": "stream",
          "text": [
            "19/19 [==============================] - 7s 95ms/step - loss: 1.0774 - accuracy: 0.9517\n"
          ],
          "name": "stdout"
        }
      ]
    },
    {
      "cell_type": "code",
      "metadata": {
        "colab": {
          "base_uri": "https://localhost:8080/"
        },
        "id": "7KkmmQWh2C5P",
        "outputId": "d48ebbf6-423c-4aab-e72a-71201677b06a"
      },
      "source": [
        "model.export(export_dir='.', tflite_filename='ASL_effficientNet.tflite')"
      ],
      "execution_count": 17,
      "outputs": [
        {
          "output_type": "stream",
          "text": [
            "INFO:tensorflow:Use customized resize method bilinear\n"
          ],
          "name": "stdout"
        },
        {
          "output_type": "stream",
          "text": [
            "INFO:tensorflow:Use customized resize method bilinear\n"
          ],
          "name": "stderr"
        },
        {
          "output_type": "stream",
          "text": [
            "INFO:tensorflow:Assets written to: /tmp/tmpu5mkas_p/assets\n"
          ],
          "name": "stdout"
        },
        {
          "output_type": "stream",
          "text": [
            "INFO:tensorflow:Assets written to: /tmp/tmpu5mkas_p/assets\n",
            "WARNING:absl:For model inputs containing unsupported operations which cannot be quantized, the `inference_input_type` attribute will default to the original type.\n"
          ],
          "name": "stderr"
        },
        {
          "output_type": "stream",
          "text": [
            "INFO:tensorflow:Label file is inside the TFLite model with metadata.\n"
          ],
          "name": "stdout"
        },
        {
          "output_type": "stream",
          "text": [
            "INFO:tensorflow:Label file is inside the TFLite model with metadata.\n"
          ],
          "name": "stderr"
        },
        {
          "output_type": "stream",
          "text": [
            "INFO:tensorflow:Saving labels in /tmp/tmpisrnf0cq/labels.txt\n"
          ],
          "name": "stdout"
        },
        {
          "output_type": "stream",
          "text": [
            "INFO:tensorflow:Saving labels in /tmp/tmpisrnf0cq/labels.txt\n"
          ],
          "name": "stderr"
        },
        {
          "output_type": "stream",
          "text": [
            "INFO:tensorflow:TensorFlow Lite model exported successfully: ./ASL_effficientNet.tflite\n"
          ],
          "name": "stdout"
        },
        {
          "output_type": "stream",
          "text": [
            "INFO:tensorflow:TensorFlow Lite model exported successfully: ./ASL_effficientNet.tflite\n"
          ],
          "name": "stderr"
        }
      ]
    },
    {
      "cell_type": "code",
      "metadata": {
        "colab": {
          "base_uri": "https://localhost:8080/",
          "height": 17
        },
        "id": "0eAt0pJa2cxG",
        "outputId": "895f5f75-feff-4f5a-8504-e44dc2fae619"
      },
      "source": [
        "from google.colab import files\n",
        "files.download('ASL_effficientNet.tflite') "
      ],
      "execution_count": 18,
      "outputs": [
        {
          "output_type": "display_data",
          "data": {
            "application/javascript": [
              "\n",
              "    async function download(id, filename, size) {\n",
              "      if (!google.colab.kernel.accessAllowed) {\n",
              "        return;\n",
              "      }\n",
              "      const div = document.createElement('div');\n",
              "      const label = document.createElement('label');\n",
              "      label.textContent = `Downloading \"${filename}\": `;\n",
              "      div.appendChild(label);\n",
              "      const progress = document.createElement('progress');\n",
              "      progress.max = size;\n",
              "      div.appendChild(progress);\n",
              "      document.body.appendChild(div);\n",
              "\n",
              "      const buffers = [];\n",
              "      let downloaded = 0;\n",
              "\n",
              "      const channel = await google.colab.kernel.comms.open(id);\n",
              "      // Send a message to notify the kernel that we're ready.\n",
              "      channel.send({})\n",
              "\n",
              "      for await (const message of channel.messages) {\n",
              "        // Send a message to notify the kernel that we're ready.\n",
              "        channel.send({})\n",
              "        if (message.buffers) {\n",
              "          for (const buffer of message.buffers) {\n",
              "            buffers.push(buffer);\n",
              "            downloaded += buffer.byteLength;\n",
              "            progress.value = downloaded;\n",
              "          }\n",
              "        }\n",
              "      }\n",
              "      const blob = new Blob(buffers, {type: 'application/binary'});\n",
              "      const a = document.createElement('a');\n",
              "      a.href = window.URL.createObjectURL(blob);\n",
              "      a.download = filename;\n",
              "      div.appendChild(a);\n",
              "      a.click();\n",
              "      div.remove();\n",
              "    }\n",
              "  "
            ],
            "text/plain": [
              "<IPython.core.display.Javascript object>"
            ]
          },
          "metadata": {
            "tags": []
          }
        },
        {
          "output_type": "display_data",
          "data": {
            "application/javascript": [
              "download(\"download_e7069f82-19cc-4d23-b21a-22905db33519\", \"ASL_effficientNet.tflite\", 4046059)"
            ],
            "text/plain": [
              "<IPython.core.display.Javascript object>"
            ]
          },
          "metadata": {
            "tags": []
          }
        }
      ]
    }
  ]
}