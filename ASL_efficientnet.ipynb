{
  "nbformat": 4,
  "nbformat_minor": 0,
  "metadata": {
    "colab": {
      "name": "ASL_efficientnet.ipynb",
      "provenance": [],
      "collapsed_sections": [],
      "mount_file_id": "1VPFbjFDfPU2d-KuoXKO_Mm-09Ih-LkFo",
      "authorship_tag": "ABX9TyPLf2rRfUnq/Utzi38bxWpr",
      "include_colab_link": true
    },
    "kernelspec": {
      "name": "python3",
      "display_name": "Python 3"
    },
    "language_info": {
      "name": "python"
    },
    "accelerator": "GPU"
  },
  "cells": [
    {
      "cell_type": "markdown",
      "metadata": {
        "id": "view-in-github",
        "colab_type": "text"
      },
      "source": [
        "<a href=\"https://colab.research.google.com/github/KhresnaPanduI/ASL_modelmaker/blob/main/ASL_efficientnet.ipynb\" target=\"_parent\"><img src=\"https://colab.research.google.com/assets/colab-badge.svg\" alt=\"Open In Colab\"/></a>"
      ]
    },
    {
      "cell_type": "code",
      "metadata": {
        "id": "rtWlCIOfrSjZ",
        "colab": {
          "base_uri": "https://localhost:8080/"
        },
        "outputId": "7ae3e951-8f1a-4ebd-e7c0-ba870aa6af4e"
      },
      "source": [
        "!pip install -q tflite-model-maker"
      ],
      "execution_count": 2,
      "outputs": [
        {
          "output_type": "stream",
          "text": [
            "\u001b[K     |████████████████████████████████| 593kB 9.2MB/s \n",
            "\u001b[K     |████████████████████████████████| 122kB 17.8MB/s \n",
            "\u001b[K     |████████████████████████████████| 1.1MB 18.6MB/s \n",
            "\u001b[K     |████████████████████████████████| 686kB 51.9MB/s \n",
            "\u001b[K     |████████████████████████████████| 645kB 55.4MB/s \n",
            "\u001b[K     |████████████████████████████████| 71kB 11.8MB/s \n",
            "\u001b[K     |████████████████████████████████| 112kB 61.4MB/s \n",
            "\u001b[K     |████████████████████████████████| 849kB 61.0MB/s \n",
            "\u001b[K     |████████████████████████████████| 92kB 11.9MB/s \n",
            "\u001b[K     |████████████████████████████████| 6.3MB 52.7MB/s \n",
            "\u001b[K     |████████████████████████████████| 1.2MB 49.4MB/s \n",
            "\u001b[K     |████████████████████████████████| 174kB 55.8MB/s \n",
            "\u001b[K     |████████████████████████████████| 194kB 53.3MB/s \n",
            "\u001b[K     |████████████████████████████████| 358kB 50.5MB/s \n",
            "\u001b[K     |████████████████████████████████| 102kB 10.9MB/s \n",
            "\u001b[K     |████████████████████████████████| 38.2MB 69kB/s \n",
            "\u001b[?25h  Building wheel for fire (setup.py) ... \u001b[?25l\u001b[?25hdone\n",
            "  Building wheel for py-cpuinfo (setup.py) ... \u001b[?25l\u001b[?25hdone\n"
          ],
          "name": "stdout"
        }
      ]
    },
    {
      "cell_type": "code",
      "metadata": {
        "id": "D0EFWAubqvY4"
      },
      "source": [
        "import tensorflow as tf\n",
        "import tensorflow_datasets as tfds\n",
        "\n",
        "from tflite_model_maker import image_classifier\n",
        "from tflite_model_maker.image_classifier import DataLoader\n",
        "\n",
        "import matplotlib.pyplot as plt\n",
        "import numpy "
      ],
      "execution_count": 3,
      "outputs": []
    },
    {
      "cell_type": "code",
      "metadata": {
        "colab": {
          "base_uri": "https://localhost:8080/"
        },
        "id": "Wqxs2Anj0kp2",
        "outputId": "2cbd1163-6d86-4395-88ce-2055004c4726"
      },
      "source": [
        "#load dataset\n",
        "image_path = '/content/drive/MyDrive/Datasets/combined asl'\n",
        "data = DataLoader.from_folder(image_path)\n",
        "train_data, test_data = data.split(0.9)"
      ],
      "execution_count": 5,
      "outputs": [
        {
          "output_type": "stream",
          "text": [
            "INFO:tensorflow:Load image with size: 5798, num_label: 29, labels: A, B, C, D, E, F, G, H, I, J, K, L, M, N, O, P, Q, R, S, T, U, V, W, X, Y, Z, del, nothing, space.\n"
          ],
          "name": "stdout"
        }
      ]
    },
    {
      "cell_type": "code",
      "metadata": {
        "colab": {
          "base_uri": "https://localhost:8080/"
        },
        "id": "935Jm4eU0ryl",
        "outputId": "3fa541b0-3ea6-492e-b646-c6813ff42bf1"
      },
      "source": [
        "#training\n",
        "model = image_classifier.create(train_data, \n",
        "                                validation_data=test_data,\n",
        "                                epochs=50, \n",
        "                                dropout_rate=0.1,\n",
        "                                shuffle=True)"
      ],
      "execution_count": 8,
      "outputs": [
        {
          "output_type": "stream",
          "text": [
            "INFO:tensorflow:Retraining the models...\n"
          ],
          "name": "stdout"
        },
        {
          "output_type": "stream",
          "text": [
            "INFO:tensorflow:Retraining the models...\n"
          ],
          "name": "stderr"
        },
        {
          "output_type": "stream",
          "text": [
            "WARNING:tensorflow:Please add `keras.layers.InputLayer` instead of `keras.Input` to Sequential model. `keras.Input` is intended to be used by Functional model.\n"
          ],
          "name": "stdout"
        },
        {
          "output_type": "stream",
          "text": [
            "WARNING:tensorflow:Please add `keras.layers.InputLayer` instead of `keras.Input` to Sequential model. `keras.Input` is intended to be used by Functional model.\n"
          ],
          "name": "stderr"
        },
        {
          "output_type": "stream",
          "text": [
            "Model: \"sequential_2\"\n",
            "_________________________________________________________________\n",
            "Layer (type)                 Output Shape              Param #   \n",
            "=================================================================\n",
            "hub_keras_layer_v1v2_2 (HubK (None, 1280)              3413024   \n",
            "_________________________________________________________________\n",
            "dropout_2 (Dropout)          (None, 1280)              0         \n",
            "_________________________________________________________________\n",
            "dense_2 (Dense)              (None, 29)                37149     \n",
            "=================================================================\n",
            "Total params: 3,450,173\n",
            "Trainable params: 37,149\n",
            "Non-trainable params: 3,413,024\n",
            "_________________________________________________________________\n",
            "None\n",
            "Epoch 1/50\n"
          ],
          "name": "stdout"
        },
        {
          "output_type": "stream",
          "text": [
            "/usr/local/lib/python3.7/dist-packages/tensorflow/python/keras/optimizer_v2/optimizer_v2.py:375: UserWarning: The `lr` argument is deprecated, use `learning_rate` instead.\n",
            "  \"The `lr` argument is deprecated, use `learning_rate` instead.\")\n"
          ],
          "name": "stderr"
        },
        {
          "output_type": "stream",
          "text": [
            "163/163 [==============================] - 79s 475ms/step - loss: 2.5817 - accuracy: 0.4254 - val_loss: 1.8756 - val_accuracy: 0.7865\n",
            "Epoch 2/50\n",
            "163/163 [==============================] - 22s 134ms/step - loss: 1.6135 - accuracy: 0.8259 - val_loss: 1.3845 - val_accuracy: 0.9236\n",
            "Epoch 3/50\n",
            "163/163 [==============================] - 22s 135ms/step - loss: 1.2774 - accuracy: 0.9181 - val_loss: 1.1746 - val_accuracy: 0.9618\n",
            "Epoch 4/50\n",
            "163/163 [==============================] - 22s 136ms/step - loss: 1.1269 - accuracy: 0.9444 - val_loss: 1.0713 - val_accuracy: 0.9705\n",
            "Epoch 5/50\n",
            "163/163 [==============================] - 23s 142ms/step - loss: 1.0438 - accuracy: 0.9620 - val_loss: 1.0059 - val_accuracy: 0.9740\n",
            "Epoch 6/50\n",
            "163/163 [==============================] - 24s 148ms/step - loss: 0.9902 - accuracy: 0.9730 - val_loss: 0.9647 - val_accuracy: 0.9774\n",
            "Epoch 7/50\n",
            "163/163 [==============================] - 27s 164ms/step - loss: 0.9548 - accuracy: 0.9778 - val_loss: 0.9309 - val_accuracy: 0.9809\n",
            "Epoch 8/50\n",
            "163/163 [==============================] - 22s 136ms/step - loss: 0.9286 - accuracy: 0.9812 - val_loss: 0.9120 - val_accuracy: 0.9861\n",
            "Epoch 9/50\n",
            "163/163 [==============================] - 22s 135ms/step - loss: 0.9098 - accuracy: 0.9827 - val_loss: 0.9000 - val_accuracy: 0.9826\n",
            "Epoch 10/50\n",
            "163/163 [==============================] - 22s 135ms/step - loss: 0.8960 - accuracy: 0.9841 - val_loss: 0.8792 - val_accuracy: 0.9896\n",
            "Epoch 11/50\n",
            "163/163 [==============================] - 22s 135ms/step - loss: 0.8828 - accuracy: 0.9881 - val_loss: 0.8692 - val_accuracy: 0.9896\n",
            "Epoch 12/50\n",
            "163/163 [==============================] - 22s 134ms/step - loss: 0.8697 - accuracy: 0.9872 - val_loss: 0.8598 - val_accuracy: 0.9878\n",
            "Epoch 13/50\n",
            "163/163 [==============================] - 21s 132ms/step - loss: 0.8638 - accuracy: 0.9906 - val_loss: 0.8521 - val_accuracy: 0.9896\n",
            "Epoch 14/50\n",
            "163/163 [==============================] - 21s 132ms/step - loss: 0.8558 - accuracy: 0.9921 - val_loss: 0.8443 - val_accuracy: 0.9896\n",
            "Epoch 15/50\n",
            "163/163 [==============================] - 21s 132ms/step - loss: 0.8469 - accuracy: 0.9916 - val_loss: 0.8379 - val_accuracy: 0.9913\n",
            "Epoch 16/50\n",
            "163/163 [==============================] - 22s 133ms/step - loss: 0.8416 - accuracy: 0.9931 - val_loss: 0.8317 - val_accuracy: 0.9913\n",
            "Epoch 17/50\n",
            "163/163 [==============================] - 22s 134ms/step - loss: 0.8374 - accuracy: 0.9927 - val_loss: 0.8289 - val_accuracy: 0.9913\n",
            "Epoch 18/50\n",
            "163/163 [==============================] - 22s 134ms/step - loss: 0.8307 - accuracy: 0.9921 - val_loss: 0.8263 - val_accuracy: 0.9878\n",
            "Epoch 19/50\n",
            "163/163 [==============================] - 22s 135ms/step - loss: 0.8306 - accuracy: 0.9937 - val_loss: 0.8205 - val_accuracy: 0.9896\n",
            "Epoch 20/50\n",
            "163/163 [==============================] - 22s 134ms/step - loss: 0.8257 - accuracy: 0.9950 - val_loss: 0.8177 - val_accuracy: 0.9896\n",
            "Epoch 21/50\n",
            "163/163 [==============================] - 22s 133ms/step - loss: 0.8206 - accuracy: 0.9946 - val_loss: 0.8147 - val_accuracy: 0.9913\n",
            "Epoch 22/50\n",
            "163/163 [==============================] - 22s 133ms/step - loss: 0.8178 - accuracy: 0.9939 - val_loss: 0.8109 - val_accuracy: 0.9913\n",
            "Epoch 23/50\n",
            "163/163 [==============================] - 22s 133ms/step - loss: 0.8148 - accuracy: 0.9958 - val_loss: 0.8083 - val_accuracy: 0.9896\n",
            "Epoch 24/50\n",
            "163/163 [==============================] - 22s 135ms/step - loss: 0.8126 - accuracy: 0.9964 - val_loss: 0.8067 - val_accuracy: 0.9913\n",
            "Epoch 25/50\n",
            "163/163 [==============================] - 22s 135ms/step - loss: 0.8079 - accuracy: 0.9942 - val_loss: 0.8043 - val_accuracy: 0.9913\n",
            "Epoch 26/50\n",
            "163/163 [==============================] - 22s 134ms/step - loss: 0.8068 - accuracy: 0.9958 - val_loss: 0.8015 - val_accuracy: 0.9913\n",
            "Epoch 27/50\n",
            "163/163 [==============================] - 22s 135ms/step - loss: 0.8052 - accuracy: 0.9965 - val_loss: 0.8005 - val_accuracy: 0.9913\n",
            "Epoch 28/50\n",
            "163/163 [==============================] - 21s 132ms/step - loss: 0.8036 - accuracy: 0.9954 - val_loss: 0.7974 - val_accuracy: 0.9913\n",
            "Epoch 29/50\n",
            "163/163 [==============================] - 22s 134ms/step - loss: 0.7986 - accuracy: 0.9971 - val_loss: 0.7962 - val_accuracy: 0.9913\n",
            "Epoch 30/50\n",
            "163/163 [==============================] - 22s 134ms/step - loss: 0.7992 - accuracy: 0.9973 - val_loss: 0.7938 - val_accuracy: 0.9931\n",
            "Epoch 31/50\n",
            "163/163 [==============================] - 22s 135ms/step - loss: 0.7976 - accuracy: 0.9967 - val_loss: 0.7905 - val_accuracy: 0.9931\n",
            "Epoch 32/50\n",
            "163/163 [==============================] - 23s 140ms/step - loss: 0.7945 - accuracy: 0.9975 - val_loss: 0.7904 - val_accuracy: 0.9913\n",
            "Epoch 33/50\n",
            "163/163 [==============================] - 22s 137ms/step - loss: 0.7928 - accuracy: 0.9971 - val_loss: 0.7887 - val_accuracy: 0.9913\n",
            "Epoch 34/50\n",
            "163/163 [==============================] - 22s 134ms/step - loss: 0.7930 - accuracy: 0.9964 - val_loss: 0.7877 - val_accuracy: 0.9913\n",
            "Epoch 35/50\n",
            "163/163 [==============================] - 22s 134ms/step - loss: 0.7904 - accuracy: 0.9967 - val_loss: 0.7868 - val_accuracy: 0.9913\n",
            "Epoch 36/50\n",
            "163/163 [==============================] - 22s 133ms/step - loss: 0.7886 - accuracy: 0.9969 - val_loss: 0.7847 - val_accuracy: 0.9913\n",
            "Epoch 37/50\n",
            "163/163 [==============================] - 22s 134ms/step - loss: 0.7886 - accuracy: 0.9960 - val_loss: 0.7828 - val_accuracy: 0.9913\n",
            "Epoch 38/50\n",
            "163/163 [==============================] - 22s 135ms/step - loss: 0.7864 - accuracy: 0.9967 - val_loss: 0.7833 - val_accuracy: 0.9913\n",
            "Epoch 39/50\n",
            "163/163 [==============================] - 22s 134ms/step - loss: 0.7864 - accuracy: 0.9971 - val_loss: 0.7819 - val_accuracy: 0.9913\n",
            "Epoch 40/50\n",
            "163/163 [==============================] - 22s 133ms/step - loss: 0.7859 - accuracy: 0.9969 - val_loss: 0.7805 - val_accuracy: 0.9931\n",
            "Epoch 41/50\n",
            "163/163 [==============================] - 22s 133ms/step - loss: 0.7834 - accuracy: 0.9965 - val_loss: 0.7787 - val_accuracy: 0.9931\n",
            "Epoch 42/50\n",
            "163/163 [==============================] - 22s 134ms/step - loss: 0.7827 - accuracy: 0.9969 - val_loss: 0.7779 - val_accuracy: 0.9931\n",
            "Epoch 43/50\n",
            "163/163 [==============================] - 21s 132ms/step - loss: 0.7808 - accuracy: 0.9973 - val_loss: 0.7784 - val_accuracy: 0.9913\n",
            "Epoch 44/50\n",
            "163/163 [==============================] - 22s 134ms/step - loss: 0.7805 - accuracy: 0.9977 - val_loss: 0.7770 - val_accuracy: 0.9931\n",
            "Epoch 45/50\n",
            "163/163 [==============================] - 22s 133ms/step - loss: 0.7780 - accuracy: 0.9975 - val_loss: 0.7760 - val_accuracy: 0.9913\n",
            "Epoch 46/50\n",
            "163/163 [==============================] - 22s 133ms/step - loss: 0.7794 - accuracy: 0.9971 - val_loss: 0.7755 - val_accuracy: 0.9913\n",
            "Epoch 47/50\n",
            "163/163 [==============================] - 22s 133ms/step - loss: 0.7794 - accuracy: 0.9977 - val_loss: 0.7750 - val_accuracy: 0.9913\n",
            "Epoch 48/50\n",
            "163/163 [==============================] - 22s 134ms/step - loss: 0.7768 - accuracy: 0.9975 - val_loss: 0.7748 - val_accuracy: 0.9913\n",
            "Epoch 49/50\n",
            "163/163 [==============================] - 22s 136ms/step - loss: 0.7756 - accuracy: 0.9967 - val_loss: 0.7732 - val_accuracy: 0.9931\n",
            "Epoch 50/50\n",
            "163/163 [==============================] - 22s 137ms/step - loss: 0.7756 - accuracy: 0.9977 - val_loss: 0.7723 - val_accuracy: 0.9931\n"
          ],
          "name": "stdout"
        }
      ]
    },
    {
      "cell_type": "markdown",
      "metadata": {
        "id": "E7VFTRQP2A4W"
      },
      "source": [
        "Evaluate model"
      ]
    },
    {
      "cell_type": "code",
      "metadata": {
        "colab": {
          "base_uri": "https://localhost:8080/"
        },
        "id": "GX7xGd8b2CZh",
        "outputId": "a86f04da-351e-4fde-9e3f-6789a1bd4602"
      },
      "source": [
        "loss, accuracy = model.evaluate(test_data)"
      ],
      "execution_count": 16,
      "outputs": [
        {
          "output_type": "stream",
          "text": [
            "19/19 [==============================] - 7s 96ms/step - loss: 0.7722 - accuracy: 0.9931\n"
          ],
          "name": "stdout"
        }
      ]
    },
    {
      "cell_type": "code",
      "metadata": {
        "colab": {
          "base_uri": "https://localhost:8080/",
          "height": 295
        },
        "id": "5uOoDc9_UyAw",
        "outputId": "17206d95-de67-45f2-a1b4-fe67dc6d9f6b"
      },
      "source": [
        "plt.plot(model.history.history['accuracy'])\n",
        "plt.plot(model.history.history['val_accuracy'])\n",
        "plt.title('model accuracy')\n",
        "plt.ylabel('accuracy')\n",
        "plt.xlabel('epoch')\n",
        "plt.legend(['training accuracy', 'validation accuracy'], loc='upper left')\n",
        "plt.show()"
      ],
      "execution_count": 15,
      "outputs": [
        {
          "output_type": "display_data",
          "data": {
            "image/png": "[encoded data removed]",
            "text/plain": [
              "<Figure size 432x288 with 1 Axes>"
            ]
          },
          "metadata": {
            "tags": [],
            "needs_background": "light"
          }
        }
      ]
    },
    {
      "cell_type": "code",
      "metadata": {
        "colab": {
          "base_uri": "https://localhost:8080/"
        },
        "id": "7KkmmQWh2C5P",
        "outputId": "7ac7817e-6522-4bcf-f6f3-b57992bfc600"
      },
      "source": [
        "model.export(export_dir='.', tflite_filename='ASL_effficientNet.tflite')"
      ],
      "execution_count": 17,
      "outputs": [
        {
          "output_type": "stream",
          "text": [
            "INFO:tensorflow:Assets written to: /tmp/tmpx9zprzqq/assets\n"
          ],
          "name": "stdout"
        },
        {
          "output_type": "stream",
          "text": [
            "INFO:tensorflow:Assets written to: /tmp/tmpx9zprzqq/assets\n",
            "WARNING:absl:For model inputs containing unsupported operations which cannot be quantized, the `inference_input_type` attribute will default to the original type.\n"
          ],
          "name": "stderr"
        },
        {
          "output_type": "stream",
          "text": [
            "INFO:tensorflow:Label file is inside the TFLite model with metadata.\n"
          ],
          "name": "stdout"
        },
        {
          "output_type": "stream",
          "text": [
            "INFO:tensorflow:Label file is inside the TFLite model with metadata.\n"
          ],
          "name": "stderr"
        },
        {
          "output_type": "stream",
          "text": [
            "INFO:tensorflow:Saving labels in /tmp/tmpgwtbdvbu/labels.txt\n"
          ],
          "name": "stdout"
        },
        {
          "output_type": "stream",
          "text": [
            "INFO:tensorflow:Saving labels in /tmp/tmpgwtbdvbu/labels.txt\n"
          ],
          "name": "stderr"
        },
        {
          "output_type": "stream",
          "text": [
            "INFO:tensorflow:TensorFlow Lite model exported successfully: ./ASL_effficientNet.tflite\n"
          ],
          "name": "stdout"
        },
        {
          "output_type": "stream",
          "text": [
            "INFO:tensorflow:TensorFlow Lite model exported successfully: ./ASL_effficientNet.tflite\n"
          ],
          "name": "stderr"
        }
      ]
    },
    {
      "cell_type": "code",
      "metadata": {
        "colab": {
          "base_uri": "https://localhost:8080/",
          "height": 17
        },
        "id": "0eAt0pJa2cxG",
        "outputId": "e092d96c-9ffa-4ebe-d4ac-1021df801e83"
      },
      "source": [
        "from google.colab import files\n",
        "files.download('ASL_effficientNet.tflite') "
      ],
      "execution_count": 18,
      "outputs": [
        {
          "output_type": "display_data",
          "data": {
            "application/javascript": [
              "\n",
              "    async function download(id, filename, size) {\n",
              "      if (!google.colab.kernel.accessAllowed) {\n",
              "        return;\n",
              "      }\n",
              "      const div = document.createElement('div');\n",
              "      const label = document.createElement('label');\n",
              "      label.textContent = `Downloading \"${filename}\": `;\n",
              "      div.appendChild(label);\n",
              "      const progress = document.createElement('progress');\n",
              "      progress.max = size;\n",
              "      div.appendChild(progress);\n",
              "      document.body.appendChild(div);\n",
              "\n",
              "      const buffers = [];\n",
              "      let downloaded = 0;\n",
              "\n",
              "      const channel = await google.colab.kernel.comms.open(id);\n",
              "      // Send a message to notify the kernel that we're ready.\n",
              "      channel.send({})\n",
              "\n",
              "      for await (const message of channel.messages) {\n",
              "        // Send a message to notify the kernel that we're ready.\n",
              "        channel.send({})\n",
              "        if (message.buffers) {\n",
              "          for (const buffer of message.buffers) {\n",
              "            buffers.push(buffer);\n",
              "            downloaded += buffer.byteLength;\n",
              "            progress.value = downloaded;\n",
              "          }\n",
              "        }\n",
              "      }\n",
              "      const blob = new Blob(buffers, {type: 'application/binary'});\n",
              "      const a = document.createElement('a');\n",
              "      a.href = window.URL.createObjectURL(blob);\n",
              "      a.download = filename;\n",
              "      div.appendChild(a);\n",
              "      a.click();\n",
              "      div.remove();\n",
              "    }\n",
              "  "
            ],
            "text/plain": [
              "<IPython.core.display.Javascript object>"
            ]
          },
          "metadata": {
            "tags": []
          }
        },
        {
          "output_type": "display_data",
          "data": {
            "application/javascript": [
              "download(\"download_faa1bf95-d601-4cd2-b6f4-7a532277a878\", \"ASL_effficientNet.tflite\", 4046059)"
            ],
            "text/plain": [
              "<IPython.core.display.Javascript object>"
            ]
          },
          "metadata": {
            "tags": []
          }
        }
      ]
    }
  ]
}